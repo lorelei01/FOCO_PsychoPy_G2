{
 "cells": [
  {
   "cell_type": "code",
   "execution_count": 34,
   "metadata": {},
   "outputs": [],
   "source": [
    "import numpy as np\n",
    "import pandas as pd"
   ]
  },
  {
   "cell_type": "markdown",
   "metadata": {},
   "source": [
    "The colour group "
   ]
  },
  {
   "cell_type": "code",
   "execution_count": 35,
   "metadata": {},
   "outputs": [],
   "source": [
    "#loading data_file for colour group\n",
    "df = pd.read_csv('FOCO (color) data, compiled (version 1).csv', skiprows=[1,2,3,4,5,6,7,8,9])"
   ]
  },
  {
   "cell_type": "code",
   "execution_count": 36,
   "metadata": {},
   "outputs": [
    {
     "data": {
      "image/png": "[encoded data removed]",
      "text/plain": [
       "<Figure size 432x288 with 1 Axes>"
      ]
     },
     "metadata": {},
     "output_type": "display_data"
    }
   ],
   "source": [
    "import matplotlib.pyplot as plt \n",
    "%matplotlib inline\n",
    "\n",
    "\n",
    "sums = df.groupby(df[\"condition\"])[\"compensated\"].sum()\n",
    "#axis('equal');\n",
    "plt.pie(sums, labels=sums.index, autopct='%.2f%%');\n",
    "plt.title(\"Compensated trip breakdown\")\n",
    "plt.show()"
   ]
  },
  {
   "cell_type": "code",
   "execution_count": 37,
   "metadata": {},
   "outputs": [
    {
     "data": {
      "text/plain": [
       "1    0.512346\n",
       "0    0.487654\n",
       "Name: compensated, dtype: float64"
      ]
     },
     "execution_count": 37,
     "metadata": {},
     "output_type": "execute_result"
    }
   ],
   "source": [
    "df['compensated'].value_counts(normalize=True)"
   ]
  },
  {
   "cell_type": "code",
   "execution_count": 38,
   "metadata": {},
   "outputs": [
    {
     "data": {
      "text/plain": [
       "Text(0.5, 1.0, 'Colour group')"
      ]
     },
     "execution_count": 38,
     "metadata": {},
     "output_type": "execute_result"
    },
    {
     "data": {
      "image/png": "[encoded data removed]",
      "text/plain": [
       "<Figure size 432x288 with 1 Axes>"
      ]
     },
     "metadata": {},
     "output_type": "display_data"
    }
   ],
   "source": [
    "df['compensated'].value_counts(normalize=True).plot(kind=\"pie\", labels= [\"compensated\", \"not compensated\"], autopct='%.2f%%')\n",
    "plt.title(\"Colour group\")"
   ]
  },
  {
   "cell_type": "code",
   "execution_count": 39,
   "metadata": {},
   "outputs": [
    {
     "data": {
      "text/plain": [
       "Power_divergenceResult(statistic=0.0, pvalue=1.0)"
      ]
     },
     "execution_count": 39,
     "metadata": {},
     "output_type": "execute_result"
    }
   ],
   "source": [
    "\n",
    "chi = pd.read_csv('FOCO (color) data, compiled.csv', skiprows=[1,2,3,4,5,6,7,8,9])\n",
    "from scipy.stats import chisquare, chi2_contingency as chi2\n",
    "\n",
    "chisquare(chi['condition'].value_counts())\n",
    "\n"
   ]
  },
  {
   "cell_type": "code",
   "execution_count": 40,
   "metadata": {},
   "outputs": [
    {
     "name": "stdout",
     "output_type": "stream",
     "text": [
      "compensated  compensated  not compensated\n",
      "condition                                \n",
      "green c               28               26\n",
      "green f1              27               27\n",
      "green f2              28               26\n"
     ]
    },
    {
     "data": {
      "text/plain": [
       "(0.04941284123837121, 0.9755962849429427, 2, array([[27.66666667, 26.33333333],\n",
       "        [27.66666667, 26.33333333],\n",
       "        [27.66666667, 26.33333333]]))"
      ]
     },
     "execution_count": 40,
     "metadata": {},
     "output_type": "execute_result"
    }
   ],
   "source": [
    "\n",
    "contingencyTable = pd.crosstab(chi['condition'],chi['compensated'])\n",
    "print(contingencyTable)\n",
    "chi2(contingencyTable)\n",
    "\n",
    "#in chi 2 output: first value is the \"chi square\", second value is the \"p-value\", then come the \"degrees of freedom and the expected frequencies as arrays \"\n",
    "# since all of the expected frequencies are greater than 5, the chi2 test results can be trusted. We cannot reject the null hypothesis as the p-value is greater than 0.05.\n",
    "# in our case the resuts are not significant, and therefore - colour does not affect customer behaviour "
   ]
  },
  {
   "cell_type": "code",
   "execution_count": 41,
   "metadata": {},
   "outputs": [
    {
     "name": "stdout",
     "output_type": "stream",
     "text": [
      "Requirement already satisfied: researchpy in c:\\users\\plore\\anaconda3\\lib\\site-packages (0.1.8)\n",
      "Requirement already satisfied: scipy in c:\\users\\plore\\anaconda3\\lib\\site-packages (from researchpy) (1.3.1)\n",
      "Requirement already satisfied: numpy in c:\\users\\plore\\anaconda3\\lib\\site-packages (from researchpy) (1.16.5)\n",
      "Requirement already satisfied: pandas in c:\\users\\plore\\anaconda3\\lib\\site-packages (from researchpy) (0.25.1)\n",
      "Requirement already satisfied: statsmodels in c:\\users\\plore\\anaconda3\\lib\\site-packages (from researchpy) (0.10.1)\n",
      "Requirement already satisfied: pytz>=2017.2 in c:\\users\\plore\\anaconda3\\lib\\site-packages (from pandas->researchpy) (2019.3)\n",
      "Requirement already satisfied: python-dateutil>=2.6.1 in c:\\users\\plore\\anaconda3\\lib\\site-packages (from pandas->researchpy) (2.8.0)\n",
      "Requirement already satisfied: patsy>=0.4.0 in c:\\users\\plore\\anaconda3\\lib\\site-packages (from statsmodels->researchpy) (0.5.1)\n",
      "Requirement already satisfied: six>=1.5 in c:\\users\\plore\\anaconda3\\lib\\site-packages (from python-dateutil>=2.6.1->pandas->researchpy) (1.12.0)\n"
     ]
    }
   ],
   "source": [
    "!pip install researchpy"
   ]
  },
  {
   "cell_type": "code",
   "execution_count": 42,
   "metadata": {},
   "outputs": [
    {
     "name": "stdout",
     "output_type": "stream",
     "text": [
      "          compensated                        \n",
      "          compensated not compensated     All\n",
      "condition                                    \n",
      "green c         33.73           32.91   33.33\n",
      "green f1        32.53           34.18   33.33\n",
      "green f2        33.73           32.91   33.33\n",
      "All            100.00          100.00  100.00 \n",
      "\n",
      "                 Chi-square test  results\n",
      "0  Pearson Chi-square ( 2.0) =    0.0494\n",
      "1                    p-value =    0.9756\n",
      "2                 Cramer's V =    0.0175\n"
     ]
    }
   ],
   "source": [
    "chi = pd.read_csv('FOCO (color) data, compiled.csv', skiprows=[1,2,3,4,5,6,7,8,9])\n",
    "import researchpy as rp\n",
    "table, results = rp.crosstab(chi['condition'], chi['compensated'], prop= 'col', test= 'chi-square')\n",
    "print(table,\"\\n\\n\",results)\n",
    "#just another ay to show it"
   ]
  },
  {
   "cell_type": "markdown",
   "metadata": {},
   "source": [
    "The Control Group "
   ]
  },
  {
   "cell_type": "code",
   "execution_count": 44,
   "metadata": {},
   "outputs": [
    {
     "data": {
      "image/png": "[encoded data removed]",
      "text/plain": [
       "<Figure size 432x288 with 1 Axes>"
      ]
     },
     "metadata": {},
     "output_type": "display_data"
    }
   ],
   "source": [
    "#sat this point we do another chi test. in a larger sampling population we could also do some comparison between groups\n",
    "df_c = pd.read_csv('FOCO (control) data, compiled (version 1).csv', skiprows=[1,2,3,4,5,6,7,8,9])\n",
    "\n",
    "sums_c = df_c.groupby(df_c['condition'])['compensated'].sum()\n",
    "plt.pie(sums, labels=sums.index, autopct='%.2f%%');\n",
    "plt.title(\"Compensated trip breakdown\")\n",
    "plt.show()"
   ]
  },
  {
   "cell_type": "code",
   "execution_count": 45,
   "metadata": {},
   "outputs": [
    {
     "data": {
      "text/plain": [
       "1    0.697531\n",
       "0    0.302469\n",
       "Name: compensated, dtype: float64"
      ]
     },
     "execution_count": 45,
     "metadata": {},
     "output_type": "execute_result"
    }
   ],
   "source": [
    "df_c['compensated'].value_counts(normalize=True)"
   ]
  },
  {
   "cell_type": "code",
   "execution_count": 46,
   "metadata": {},
   "outputs": [
    {
     "data": {
      "text/plain": [
       "Text(0.5, 1.0, 'Control group')"
      ]
     },
     "execution_count": 46,
     "metadata": {},
     "output_type": "execute_result"
    },
    {
     "data": {
      "image/png": "[encoded data removed]",
      "text/plain": [
       "<Figure size 432x288 with 1 Axes>"
      ]
     },
     "metadata": {},
     "output_type": "display_data"
    }
   ],
   "source": [
    "df_c['compensated'].value_counts(normalize=True).plot(kind=\"pie\", labels= [\"compensated\", \"not compensated\"], autopct='%.2f%%')\n",
    "plt.title(\"Control group\")"
   ]
  },
  {
   "cell_type": "code",
   "execution_count": 55,
   "metadata": {},
   "outputs": [
    {
     "data": {
      "text/plain": [
       "Power_divergenceResult(statistic=0.0, pvalue=1.0)"
      ]
     },
     "execution_count": 55,
     "metadata": {},
     "output_type": "execute_result"
    }
   ],
   "source": [
    "chi_c = pd.read_csv('FOCO (control) data, compiled.csv', skiprows=[1,2,3,4,5,6,7,8,9])\n",
    "\n",
    "chisquare(chi_c['condition'].value_counts())"
   ]
  },
  {
   "cell_type": "code",
   "execution_count": 56,
   "metadata": {},
   "outputs": [
    {
     "name": "stdout",
     "output_type": "stream",
     "text": [
      "compensated  compensated  not compensated\n",
      "condition                                \n",
      "green c               34               20\n",
      "green f1              41               13\n",
      "green f2              38               16\n"
     ]
    },
    {
     "data": {
      "text/plain": [
       "(2.1650713382698212, 0.33873551456477846, 2, array([[37.66666667, 16.33333333],\n",
       "        [37.66666667, 16.33333333],\n",
       "        [37.66666667, 16.33333333]]))"
      ]
     },
     "execution_count": 56,
     "metadata": {},
     "output_type": "execute_result"
    }
   ],
   "source": [
    "contingencyTable_c = pd.crosstab(chi_c['condition'],chi_c['compensated'])\n",
    "print(contingencyTable_c)\n",
    "chi2(contingencyTable_c)"
   ]
  },
  {
   "cell_type": "code",
   "execution_count": 57,
   "metadata": {},
   "outputs": [
    {
     "name": "stdout",
     "output_type": "stream",
     "text": [
      "          compensated                        \n",
      "          compensated not compensated     All\n",
      "condition                                    \n",
      "green c         30.09           40.82   33.33\n",
      "green f1        36.28           26.53   33.33\n",
      "green f2        33.63           32.65   33.33\n",
      "All            100.00          100.00  100.00 \n",
      "\n",
      "                 Chi-square test  results\n",
      "0  Pearson Chi-square ( 2.0) =    2.1651\n",
      "1                    p-value =    0.3387\n",
      "2                 Cramer's V =    0.1156\n"
     ]
    }
   ],
   "source": [
    "\n",
    "table, results = rp.crosstab(chi_c['condition'], chi_c['compensated'], prop= 'col', test= 'chi-square')\n",
    "print(table,\"\\n\\n\",results)"
   ]
  },
  {
   "cell_type": "code",
   "execution_count": null,
   "metadata": {},
   "outputs": [],
   "source": []
  }
 ],
 "metadata": {
  "kernelspec": {
   "display_name": "Python 3",
   "language": "python",
   "name": "python3"
  },
  "language_info": {
   "codemirror_mode": {
    "name": "ipython",
    "version": 3
   },
   "file_extension": ".py",
   "mimetype": "text/x-python",
   "name": "python",
   "nbconvert_exporter": "python",
   "pygments_lexer": "ipython3",
   "version": "3.7.4"
  }
 },
 "nbformat": 4,
 "nbformat_minor": 2
}
